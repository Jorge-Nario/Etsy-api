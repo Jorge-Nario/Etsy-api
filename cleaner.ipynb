{
 "cells": [
  {
   "cell_type": "markdown",
   "metadata": {},
   "source": [
    "This notebook was inspired by https://github.com/asmitakulkarni/PriceEstimator/blob/master/01_Data_Acquisition.ipynb work in Etsy. We made some modifications, but used some of her methods for cleaning."
   ]
  },
  {
   "cell_type": "code",
   "execution_count": 172,
   "metadata": {},
   "outputs": [],
   "source": [
    "import pandas as pd\n",
    "import pickle\n",
    "from glob import glob as glob\n",
    "from copy import deepcopy as copy\n",
    "import numpy as np"
   ]
  },
  {
   "cell_type": "code",
   "execution_count": 2,
   "metadata": {},
   "outputs": [],
   "source": [
    "pkls_paths = glob('/home/winston/CS591/*.pkl')"
   ]
  },
  {
   "cell_type": "code",
   "execution_count": 3,
   "metadata": {},
   "outputs": [
    {
     "data": {
      "text/plain": [
       "['/home/winston/CS591/piercing.pkl',\n",
       " '/home/winston/CS591/pendant.pkl',\n",
       " '/home/winston/CS591/bracelet.pkl',\n",
       " '/home/winston/CS591/earrings.pkl',\n",
       " '/home/winston/CS591/necklace.pkl',\n",
       " '/home/winston/CS591/brooch.pkl',\n",
       " '/home/winston/CS591/ring.pkl',\n",
       " '/home/winston/CS591/anklet.pkl']"
      ]
     },
     "execution_count": 3,
     "metadata": {},
     "output_type": "execute_result"
    }
   ],
   "source": [
    "pkls_paths"
   ]
  },
  {
   "cell_type": "code",
   "execution_count": 4,
   "metadata": {},
   "outputs": [],
   "source": [
    "dfs = []\n",
    "names = []"
   ]
  },
  {
   "cell_type": "code",
   "execution_count": 5,
   "metadata": {},
   "outputs": [],
   "source": [
    "for p in pkls_paths:\n",
    "    with open(p, 'rb') as f:\n",
    "        dfs.append(pd.DataFrame(pickle.load(f)))\n",
    "        names.append(p.split('/')[-1].split('.')[0])"
   ]
  },
  {
   "cell_type": "code",
   "execution_count": 6,
   "metadata": {},
   "outputs": [
    {
     "data": {
      "text/plain": [
       "['piercing',\n",
       " 'pendant',\n",
       " 'bracelet',\n",
       " 'earrings',\n",
       " 'necklace',\n",
       " 'brooch',\n",
       " 'ring',\n",
       " 'anklet']"
      ]
     },
     "execution_count": 6,
     "metadata": {},
     "output_type": "execute_result"
    }
   ],
   "source": [
    "names"
   ]
  },
  {
   "cell_type": "code",
   "execution_count": 7,
   "metadata": {},
   "outputs": [
    {
     "data": {
      "text/plain": [
       "308421"
      ]
     },
     "execution_count": 7,
     "metadata": {},
     "output_type": "execute_result"
    }
   ],
   "source": [
    "sum([d.shape[0] for d in dfs])"
   ]
  },
  {
   "cell_type": "code",
   "execution_count": 8,
   "metadata": {},
   "outputs": [
    {
     "data": {
      "text/plain": [
       "(651, 52)"
      ]
     },
     "execution_count": 8,
     "metadata": {},
     "output_type": "execute_result"
    }
   ],
   "source": [
    "dfs[0].shape"
   ]
  },
  {
   "cell_type": "code",
   "execution_count": 9,
   "metadata": {},
   "outputs": [],
   "source": [
    "dfs_copy = copy(dfs)"
   ]
  },
  {
   "cell_type": "code",
   "execution_count": 10,
   "metadata": {},
   "outputs": [
    {
     "name": "stdout",
     "output_type": "stream",
     "text": [
      "dt shape:(42937, 53), df.shape(651, 52)\n",
      "dt shape:(43588, 53), df.shape(15933, 52)\n",
      "dt shape:(59521, 53), df.shape(49800, 52)\n",
      "dt shape:(109321, 53), df.shape(49800, 52)\n",
      "dt shape:(159121, 53), df.shape(49700, 52)\n",
      "dt shape:(208821, 53), df.shape(49800, 52)\n",
      "dt shape:(258621, 53), df.shape(49800, 52)\n"
     ]
    }
   ],
   "source": [
    "dt = dfs_copy.pop()\n",
    "first_name = names.pop()\n",
    "dt['jewelry_class'] = first_name\n",
    "\n",
    "for df, name in zip(dfs, names):\n",
    "    print(f\"dt shape:{dt.shape}, df.shape{df.shape}\")\n",
    "    dt = dt.reset_index(drop=True)\n",
    "    \n",
    "    df['jewelry_class'] = name\n",
    "    df = df.reset_index(drop=True)\n",
    "    \n",
    "    dt = pd.concat([dt, df], axis=0, sort=True)"
   ]
  },
  {
   "cell_type": "raw",
   "metadata": {},
   "source": [
    "drop_cols = ['featured_rank']\n",
    "dt.drop(drop_cols, axis=1)"
   ]
  },
  {
   "cell_type": "markdown",
   "metadata": {},
   "source": [
    "## Not good."
   ]
  },
  {
   "cell_type": "code",
   "execution_count": 11,
   "metadata": {},
   "outputs": [
    {
     "data": {
      "text/plain": [
       "2561026"
      ]
     },
     "execution_count": 11,
     "metadata": {},
     "output_type": "execute_result"
    }
   ],
   "source": [
    "dt.isna().sum().sum()"
   ]
  },
  {
   "cell_type": "code",
   "execution_count": 12,
   "metadata": {},
   "outputs": [
    {
     "data": {
      "text/plain": [
       "(308421, 53)"
      ]
     },
     "execution_count": 12,
     "metadata": {},
     "output_type": "execute_result"
    }
   ],
   "source": [
    "dt.shape"
   ]
  },
  {
   "cell_type": "code",
   "execution_count": 13,
   "metadata": {},
   "outputs": [],
   "source": [
    "dt.drop_duplicates('listing_id', inplace=True)"
   ]
  },
  {
   "cell_type": "code",
   "execution_count": 14,
   "metadata": {},
   "outputs": [
    {
     "data": {
      "text/plain": [
       "(308247, 53)"
      ]
     },
     "execution_count": 14,
     "metadata": {},
     "output_type": "execute_result"
    }
   ],
   "source": [
    "dt.shape"
   ]
  },
  {
   "cell_type": "markdown",
   "metadata": {},
   "source": [
    "### Looking at which columns should drop, also referenced https://www.etsy.com/developers/documentation/reference/listing"
   ]
  },
  {
   "cell_type": "code",
   "execution_count": 15,
   "metadata": {},
   "outputs": [
    {
     "data": {
      "text/plain": [
       "Index(['category_id', 'category_path', 'category_path_ids', 'creation_tsz',\n",
       "       'currency_code', 'description', 'ending_tsz', 'featured_rank',\n",
       "       'file_data', 'has_variations', 'is_customizable', 'is_digital',\n",
       "       'is_private', 'is_supply', 'is_vintage', 'item_dimensions_unit',\n",
       "       'item_height', 'item_length', 'item_weight', 'item_weight_unit',\n",
       "       'item_width', 'jewelry_class', 'language', 'last_modified_tsz',\n",
       "       'listing_id', 'materials', 'non_taxable', 'num_favorers', 'occasion',\n",
       "       'original_creation_tsz', 'price', 'processing_max', 'processing_min',\n",
       "       'quantity', 'recipient', 'shipping_template_id', 'shop_section_id',\n",
       "       'should_auto_renew', 'sku', 'state', 'state_tsz', 'style',\n",
       "       'suggested_taxonomy_id', 'tags', 'taxonomy_id', 'taxonomy_path',\n",
       "       'title', 'url', 'used_manufacturer', 'user_id', 'views', 'when_made',\n",
       "       'who_made'],\n",
       "      dtype='object')"
      ]
     },
     "execution_count": 15,
     "metadata": {},
     "output_type": "execute_result"
    }
   ],
   "source": [
    "dt.columns"
   ]
  },
  {
   "cell_type": "code",
   "execution_count": 16,
   "metadata": {},
   "outputs": [],
   "source": [
    "drop_cols = ['category_id',\n",
    "             'category_path_ids',\n",
    "             'shipping_template_id',\n",
    "             'shop_section_id',\n",
    "             'suggested_taxonomy_id',\n",
    "             'taxonomy_id',\n",
    "             'url',\n",
    "             'is_private',\n",
    "            'file_data',\n",
    "            'has_variations',\n",
    "            'item_dimensions_unit',\n",
    "            'item_length',\n",
    "            'item_height',\n",
    "            'item_weight',\n",
    "            'item_weight_unit',\n",
    "            'item_width',\n",
    "            'should_auto_renew',\n",
    "            'sku',\n",
    "            'state',\n",
    "            'style']"
   ]
  },
  {
   "cell_type": "code",
   "execution_count": 17,
   "metadata": {},
   "outputs": [],
   "source": [
    "dt.drop(drop_cols, axis=1, inplace=True)"
   ]
  },
  {
   "cell_type": "code",
   "execution_count": 18,
   "metadata": {},
   "outputs": [
    {
     "data": {
      "text/plain": [
       "(308247, 33)"
      ]
     },
     "execution_count": 18,
     "metadata": {},
     "output_type": "execute_result"
    }
   ],
   "source": [
    "dt.shape"
   ]
  },
  {
   "cell_type": "code",
   "execution_count": 19,
   "metadata": {},
   "outputs": [],
   "source": [
    "dt = dt[dt.language.isin(['en-US','MACHINE_en'])]\n",
    "dt.drop(['language'], axis=1, inplace=True)"
   ]
  },
  {
   "cell_type": "code",
   "execution_count": 20,
   "metadata": {},
   "outputs": [
    {
     "data": {
      "text/plain": [
       "(297642, 0, 11911, 11911, 0)"
      ]
     },
     "execution_count": 20,
     "metadata": {},
     "output_type": "execute_result"
    }
   ],
   "source": [
    "dt.occasion.isna().sum(), dt.description.isna().sum(), dt.processing_max.isna().sum(), dt.processing_min.isna().sum(), dt.title.isna().sum()"
   ]
  },
  {
   "cell_type": "code",
   "execution_count": 21,
   "metadata": {},
   "outputs": [],
   "source": [
    "#filling ints\n",
    "dt.processing_max = dt.processing_max.fillna(0)\n",
    "dt.processing_min = dt.processing_min.fillna(0)\n",
    "\n",
    "#filling text\n",
    "dt.occasion = dt.occasion.fillna('None')\n",
    "dt.description = dt.description.fillna('None')\n",
    "dt.title = dt.title.fillna('None')\n"
   ]
  },
  {
   "cell_type": "code",
   "execution_count": 22,
   "metadata": {},
   "outputs": [
    {
     "data": {
      "text/plain": [
       "(0, 0, 0, 0, 0)"
      ]
     },
     "execution_count": 22,
     "metadata": {},
     "output_type": "execute_result"
    }
   ],
   "source": [
    "dt.occasion.isna().sum(), dt.description.isna().sum(), dt.processing_max.isna().sum(), dt.processing_min.isna().sum(), dt.title.isna().sum()"
   ]
  },
  {
   "cell_type": "code",
   "execution_count": 23,
   "metadata": {},
   "outputs": [
    {
     "data": {
      "text/plain": [
       "250943"
      ]
     },
     "execution_count": 23,
     "metadata": {},
     "output_type": "execute_result"
    }
   ],
   "source": [
    "dt.recipient.isna().sum()"
   ]
  },
  {
   "cell_type": "code",
   "execution_count": 24,
   "metadata": {},
   "outputs": [
    {
     "data": {
      "text/plain": [
       "array([None, 'children', 'women', 'not_specified', 'unisex_adults',\n",
       "       'babies', 'teen_girls', 'men', 'girls', 'baby_girls', 'teens',\n",
       "       'pets', 'cats', 'teen_boys', 'dogs', 'baby_boys', 'boys', 'birds'],\n",
       "      dtype=object)"
      ]
     },
     "execution_count": 24,
     "metadata": {},
     "output_type": "execute_result"
    }
   ],
   "source": [
    "dt.recipient.unique()"
   ]
  },
  {
   "cell_type": "code",
   "execution_count": 25,
   "metadata": {},
   "outputs": [],
   "source": [
    "dt.recipient = dt.recipient.fillna('not_specified')"
   ]
  },
  {
   "cell_type": "code",
   "execution_count": 26,
   "metadata": {},
   "outputs": [
    {
     "data": {
      "text/plain": [
       "0"
      ]
     },
     "execution_count": 26,
     "metadata": {},
     "output_type": "execute_result"
    }
   ],
   "source": [
    "dt.recipient.isna().sum()"
   ]
  },
  {
   "cell_type": "code",
   "execution_count": 27,
   "metadata": {},
   "outputs": [
    {
     "data": {
      "text/plain": [
       "array(['i_did', 'collective', 'someone_else', None], dtype=object)"
      ]
     },
     "execution_count": 27,
     "metadata": {},
     "output_type": "execute_result"
    }
   ],
   "source": [
    "dt.who_made.unique()"
   ]
  },
  {
   "cell_type": "code",
   "execution_count": 28,
   "metadata": {},
   "outputs": [],
   "source": [
    "dt.who_made = dt.who_made.fillna('someone_else')"
   ]
  },
  {
   "cell_type": "code",
   "execution_count": 29,
   "metadata": {},
   "outputs": [
    {
     "data": {
      "text/plain": [
       "array(['i_did', 'collective', 'someone_else'], dtype=object)"
      ]
     },
     "execution_count": 29,
     "metadata": {},
     "output_type": "execute_result"
    }
   ],
   "source": [
    "dt.who_made.unique()"
   ]
  },
  {
   "cell_type": "markdown",
   "metadata": {},
   "source": [
    "### Feature Rank is only NaN when its so far away, so I wanna fill those with a high number to penalize"
   ]
  },
  {
   "cell_type": "code",
   "execution_count": 30,
   "metadata": {},
   "outputs": [
    {
     "data": {
      "text/plain": [
       "count    10196.000000\n",
       "mean        32.125245\n",
       "std         96.416395\n",
       "min          1.000000\n",
       "25%          3.000000\n",
       "50%          5.000000\n",
       "75%         17.000000\n",
       "max       1891.000000\n",
       "Name: featured_rank, dtype: float64"
      ]
     },
     "execution_count": 30,
     "metadata": {},
     "output_type": "execute_result"
    }
   ],
   "source": [
    "dt.featured_rank.describe()"
   ]
  },
  {
   "cell_type": "code",
   "execution_count": 31,
   "metadata": {},
   "outputs": [],
   "source": [
    "max_recorded_rank = dt.featured_rank.describe()[-1]"
   ]
  },
  {
   "cell_type": "code",
   "execution_count": 32,
   "metadata": {},
   "outputs": [],
   "source": [
    "dt.featured_rank.fillna(max_recorded_rank*2, inplace=True)"
   ]
  },
  {
   "cell_type": "code",
   "execution_count": 33,
   "metadata": {},
   "outputs": [
    {
     "data": {
      "text/html": [
       "<div>\n",
       "<style scoped>\n",
       "    .dataframe tbody tr th:only-of-type {\n",
       "        vertical-align: middle;\n",
       "    }\n",
       "\n",
       "    .dataframe tbody tr th {\n",
       "        vertical-align: top;\n",
       "    }\n",
       "\n",
       "    .dataframe thead th {\n",
       "        text-align: right;\n",
       "    }\n",
       "</style>\n",
       "<table border=\"1\" class=\"dataframe\">\n",
       "  <thead>\n",
       "    <tr style=\"text-align: right;\">\n",
       "      <th></th>\n",
       "      <th>category_path</th>\n",
       "      <th>creation_tsz</th>\n",
       "      <th>currency_code</th>\n",
       "      <th>description</th>\n",
       "      <th>ending_tsz</th>\n",
       "      <th>featured_rank</th>\n",
       "      <th>is_customizable</th>\n",
       "      <th>is_digital</th>\n",
       "      <th>is_supply</th>\n",
       "      <th>is_vintage</th>\n",
       "      <th>...</th>\n",
       "      <th>recipient</th>\n",
       "      <th>state_tsz</th>\n",
       "      <th>tags</th>\n",
       "      <th>taxonomy_path</th>\n",
       "      <th>title</th>\n",
       "      <th>used_manufacturer</th>\n",
       "      <th>user_id</th>\n",
       "      <th>views</th>\n",
       "      <th>when_made</th>\n",
       "      <th>who_made</th>\n",
       "    </tr>\n",
       "  </thead>\n",
       "  <tbody>\n",
       "    <tr>\n",
       "      <th>0</th>\n",
       "      <td>[Jewelry, Anklet]</td>\n",
       "      <td>1.565354e+09</td>\n",
       "      <td>USD</td>\n",
       "      <td>This piece is just as beautiful in person as i...</td>\n",
       "      <td>1.575898e+09</td>\n",
       "      <td>3782.0</td>\n",
       "      <td>True</td>\n",
       "      <td>False</td>\n",
       "      <td>false</td>\n",
       "      <td>False</td>\n",
       "      <td>...</td>\n",
       "      <td>not_specified</td>\n",
       "      <td>1.565301e+09</td>\n",
       "      <td>[Custom Card, Best Sister Gift, Swarovski Pear...</td>\n",
       "      <td>[Jewelry, Body Jewelry, Anklets]</td>\n",
       "      <td>Dark Gray Infinity Anklet - Dark Grey Pearl In...</td>\n",
       "      <td>False</td>\n",
       "      <td>32000761.0</td>\n",
       "      <td>82.0</td>\n",
       "      <td>made_to_order</td>\n",
       "      <td>i_did</td>\n",
       "    </tr>\n",
       "    <tr>\n",
       "      <th>1</th>\n",
       "      <td>[Jewelry, Anklet]</td>\n",
       "      <td>1.565355e+09</td>\n",
       "      <td>USD</td>\n",
       "      <td>❤CHARMING ORGANZA FLOWERS AND PEARLS CHRISTENI...</td>\n",
       "      <td>1.575899e+09</td>\n",
       "      <td>3782.0</td>\n",
       "      <td>True</td>\n",
       "      <td>False</td>\n",
       "      <td>false</td>\n",
       "      <td>False</td>\n",
       "      <td>...</td>\n",
       "      <td>children</td>\n",
       "      <td>1.548678e+09</td>\n",
       "      <td>[flower girl, baby barefoot, baby sandals, chr...</td>\n",
       "      <td>[Jewelry, Body Jewelry, Anklets]</td>\n",
       "      <td>Baby Barefoot Sandals, Toddler Jewelry,Newborn...</td>\n",
       "      <td>False</td>\n",
       "      <td>11175308.0</td>\n",
       "      <td>3601.0</td>\n",
       "      <td>made_to_order</td>\n",
       "      <td>i_did</td>\n",
       "    </tr>\n",
       "    <tr>\n",
       "      <th>2</th>\n",
       "      <td>[Jewelry, Anklet]</td>\n",
       "      <td>1.565355e+09</td>\n",
       "      <td>USD</td>\n",
       "      <td>Shaky Shells Anklet.  Made with round multi-co...</td>\n",
       "      <td>1.575899e+09</td>\n",
       "      <td>3782.0</td>\n",
       "      <td>False</td>\n",
       "      <td>False</td>\n",
       "      <td>false</td>\n",
       "      <td>False</td>\n",
       "      <td>...</td>\n",
       "      <td>not_specified</td>\n",
       "      <td>1.575395e+09</td>\n",
       "      <td>[anklets, ankle bracelet, beaded anklet, chain...</td>\n",
       "      <td>[Jewelry, Body Jewelry, Anklets]</td>\n",
       "      <td>Shaky Shells Anklet</td>\n",
       "      <td>False</td>\n",
       "      <td>60381383.0</td>\n",
       "      <td>19.0</td>\n",
       "      <td>2010_2019</td>\n",
       "      <td>i_did</td>\n",
       "    </tr>\n",
       "    <tr>\n",
       "      <th>3</th>\n",
       "      <td>[Jewelry, Anklet]</td>\n",
       "      <td>1.565355e+09</td>\n",
       "      <td>USD</td>\n",
       "      <td>Garnet Hydro Anklet,Thin Delicate Anklet,India...</td>\n",
       "      <td>1.575899e+09</td>\n",
       "      <td>3782.0</td>\n",
       "      <td>False</td>\n",
       "      <td>False</td>\n",
       "      <td>false</td>\n",
       "      <td>False</td>\n",
       "      <td>...</td>\n",
       "      <td>not_specified</td>\n",
       "      <td>1.565355e+09</td>\n",
       "      <td>[Handmade Jewelry, Fine Anklet, Boho Anklet, T...</td>\n",
       "      <td>[Jewelry, Body Jewelry, Anklets]</td>\n",
       "      <td>Garnet Hydro Anklet,Thin Delicate Anklet,India...</td>\n",
       "      <td>False</td>\n",
       "      <td>174209552.0</td>\n",
       "      <td>14.0</td>\n",
       "      <td>2010_2019</td>\n",
       "      <td>i_did</td>\n",
       "    </tr>\n",
       "    <tr>\n",
       "      <th>4</th>\n",
       "      <td>[Jewelry, Anklet]</td>\n",
       "      <td>1.565356e+09</td>\n",
       "      <td>USD</td>\n",
       "      <td>This lovely bracelet is handcrafted with Swaro...</td>\n",
       "      <td>1.575900e+09</td>\n",
       "      <td>3782.0</td>\n",
       "      <td>False</td>\n",
       "      <td>False</td>\n",
       "      <td>false</td>\n",
       "      <td>False</td>\n",
       "      <td>...</td>\n",
       "      <td>not_specified</td>\n",
       "      <td>1.557072e+09</td>\n",
       "      <td>[Swarovski crystal, sterling silver, birthston...</td>\n",
       "      <td>[Jewelry, Body Jewelry, Anklets]</td>\n",
       "      <td>Swarovski Crystal and Sterling Silver Bracelet</td>\n",
       "      <td>False</td>\n",
       "      <td>6096032.0</td>\n",
       "      <td>37.0</td>\n",
       "      <td>2010_2019</td>\n",
       "      <td>i_did</td>\n",
       "    </tr>\n",
       "    <tr>\n",
       "      <th>...</th>\n",
       "      <td>...</td>\n",
       "      <td>...</td>\n",
       "      <td>...</td>\n",
       "      <td>...</td>\n",
       "      <td>...</td>\n",
       "      <td>...</td>\n",
       "      <td>...</td>\n",
       "      <td>...</td>\n",
       "      <td>...</td>\n",
       "      <td>...</td>\n",
       "      <td>...</td>\n",
       "      <td>...</td>\n",
       "      <td>...</td>\n",
       "      <td>...</td>\n",
       "      <td>...</td>\n",
       "      <td>...</td>\n",
       "      <td>...</td>\n",
       "      <td>...</td>\n",
       "      <td>...</td>\n",
       "      <td>...</td>\n",
       "      <td>...</td>\n",
       "    </tr>\n",
       "    <tr>\n",
       "      <th>49795</th>\n",
       "      <td>[Jewelry, Ring]</td>\n",
       "      <td>1.565771e+09</td>\n",
       "      <td>USD</td>\n",
       "      <td>Oval Moissanite Ring, Oval Cut 7x9mm Moissanit...</td>\n",
       "      <td>1.576316e+09</td>\n",
       "      <td>3782.0</td>\n",
       "      <td>False</td>\n",
       "      <td>False</td>\n",
       "      <td>false</td>\n",
       "      <td>False</td>\n",
       "      <td>...</td>\n",
       "      <td>not_specified</td>\n",
       "      <td>1.544606e+09</td>\n",
       "      <td>[moissanite ring, art deco ring, engagement ri...</td>\n",
       "      <td>[Jewelry, Rings, Wedding &amp; Engagement, Engagem...</td>\n",
       "      <td>Oval Moissanite Ring, Oval Cut 7x9mm Moissanit...</td>\n",
       "      <td>False</td>\n",
       "      <td>138745551.0</td>\n",
       "      <td>219.0</td>\n",
       "      <td>made_to_order</td>\n",
       "      <td>collective</td>\n",
       "    </tr>\n",
       "    <tr>\n",
       "      <th>49796</th>\n",
       "      <td>[Jewelry, Ring]</td>\n",
       "      <td>1.565771e+09</td>\n",
       "      <td>EUR</td>\n",
       "      <td>Design ring made in my parisian workshop!\\nPie...</td>\n",
       "      <td>1.576316e+09</td>\n",
       "      <td>3782.0</td>\n",
       "      <td>False</td>\n",
       "      <td>False</td>\n",
       "      <td>false</td>\n",
       "      <td>False</td>\n",
       "      <td>...</td>\n",
       "      <td>not_specified</td>\n",
       "      <td>1.523042e+09</td>\n",
       "      <td>[SILVER, ring, women, men, ligns, comb, design...</td>\n",
       "      <td>[Jewelry, Rings]</td>\n",
       "      <td>CO2</td>\n",
       "      <td>False</td>\n",
       "      <td>24212557.0</td>\n",
       "      <td>168.0</td>\n",
       "      <td>2010_2019</td>\n",
       "      <td>i_did</td>\n",
       "    </tr>\n",
       "    <tr>\n",
       "      <th>49797</th>\n",
       "      <td>[Jewelry, Ring]</td>\n",
       "      <td>1.565771e+09</td>\n",
       "      <td>USD</td>\n",
       "      <td>Welcome to TampicoJewelry.com!\\nVictorian Inta...</td>\n",
       "      <td>1.576316e+09</td>\n",
       "      <td>3782.0</td>\n",
       "      <td>True</td>\n",
       "      <td>False</td>\n",
       "      <td>false</td>\n",
       "      <td>True</td>\n",
       "      <td>...</td>\n",
       "      <td>not_specified</td>\n",
       "      <td>1.522793e+09</td>\n",
       "      <td>[silver signet ring, intaglio ring, jasper int...</td>\n",
       "      <td>[Jewelry, Rings, Signet Rings]</td>\n",
       "      <td>Victorian Intaglio, c1900, Wax Seal Ring, Engr...</td>\n",
       "      <td>False</td>\n",
       "      <td>24003253.0</td>\n",
       "      <td>1180.0</td>\n",
       "      <td>1980s</td>\n",
       "      <td>someone_else</td>\n",
       "    </tr>\n",
       "    <tr>\n",
       "      <th>49798</th>\n",
       "      <td>[Jewelry, Ring]</td>\n",
       "      <td>1.565771e+09</td>\n",
       "      <td>EUR</td>\n",
       "      <td>Silver ring 925 gold rose gold (3 microns) set...</td>\n",
       "      <td>1.576316e+09</td>\n",
       "      <td>3782.0</td>\n",
       "      <td>False</td>\n",
       "      <td>False</td>\n",
       "      <td>false</td>\n",
       "      <td>False</td>\n",
       "      <td>...</td>\n",
       "      <td>not_specified</td>\n",
       "      <td>1.565772e+09</td>\n",
       "      <td>[jewelry, Woman, ring, Stone, Lonely, Amethyst...</td>\n",
       "      <td>[Jewelry, Rings, Multi-Stone Rings]</td>\n",
       "      <td>Ring Solitaire silver gilded rose gold and lav...</td>\n",
       "      <td>False</td>\n",
       "      <td>94944764.0</td>\n",
       "      <td>198.0</td>\n",
       "      <td>2010_2019</td>\n",
       "      <td>someone_else</td>\n",
       "    </tr>\n",
       "    <tr>\n",
       "      <th>49799</th>\n",
       "      <td>[Jewelry, Ring]</td>\n",
       "      <td>1.565771e+09</td>\n",
       "      <td>EUR</td>\n",
       "      <td>Sterling silver hammered thin stacking rings (...</td>\n",
       "      <td>1.576316e+09</td>\n",
       "      <td>3782.0</td>\n",
       "      <td>False</td>\n",
       "      <td>False</td>\n",
       "      <td>false</td>\n",
       "      <td>False</td>\n",
       "      <td>...</td>\n",
       "      <td>not_specified</td>\n",
       "      <td>1.545378e+09</td>\n",
       "      <td>[silver ring, sterling silver ring, slim ring,...</td>\n",
       "      <td>[Jewelry, Rings]</td>\n",
       "      <td>7 rings set SLIM sterling silver ring - any si...</td>\n",
       "      <td>False</td>\n",
       "      <td>106325481.0</td>\n",
       "      <td>26.0</td>\n",
       "      <td>made_to_order</td>\n",
       "      <td>i_did</td>\n",
       "    </tr>\n",
       "  </tbody>\n",
       "</table>\n",
       "<p>307907 rows × 32 columns</p>\n",
       "</div>"
      ],
      "text/plain": [
       "           category_path  creation_tsz currency_code  \\\n",
       "0      [Jewelry, Anklet]  1.565354e+09           USD   \n",
       "1      [Jewelry, Anklet]  1.565355e+09           USD   \n",
       "2      [Jewelry, Anklet]  1.565355e+09           USD   \n",
       "3      [Jewelry, Anklet]  1.565355e+09           USD   \n",
       "4      [Jewelry, Anklet]  1.565356e+09           USD   \n",
       "...                  ...           ...           ...   \n",
       "49795    [Jewelry, Ring]  1.565771e+09           USD   \n",
       "49796    [Jewelry, Ring]  1.565771e+09           EUR   \n",
       "49797    [Jewelry, Ring]  1.565771e+09           USD   \n",
       "49798    [Jewelry, Ring]  1.565771e+09           EUR   \n",
       "49799    [Jewelry, Ring]  1.565771e+09           EUR   \n",
       "\n",
       "                                             description    ending_tsz  \\\n",
       "0      This piece is just as beautiful in person as i...  1.575898e+09   \n",
       "1      ❤CHARMING ORGANZA FLOWERS AND PEARLS CHRISTENI...  1.575899e+09   \n",
       "2      Shaky Shells Anklet.  Made with round multi-co...  1.575899e+09   \n",
       "3      Garnet Hydro Anklet,Thin Delicate Anklet,India...  1.575899e+09   \n",
       "4      This lovely bracelet is handcrafted with Swaro...  1.575900e+09   \n",
       "...                                                  ...           ...   \n",
       "49795  Oval Moissanite Ring, Oval Cut 7x9mm Moissanit...  1.576316e+09   \n",
       "49796  Design ring made in my parisian workshop!\\nPie...  1.576316e+09   \n",
       "49797  Welcome to TampicoJewelry.com!\\nVictorian Inta...  1.576316e+09   \n",
       "49798  Silver ring 925 gold rose gold (3 microns) set...  1.576316e+09   \n",
       "49799  Sterling silver hammered thin stacking rings (...  1.576316e+09   \n",
       "\n",
       "       featured_rank is_customizable is_digital is_supply  is_vintage  ...  \\\n",
       "0             3782.0            True      False     false       False  ...   \n",
       "1             3782.0            True      False     false       False  ...   \n",
       "2             3782.0           False      False     false       False  ...   \n",
       "3             3782.0           False      False     false       False  ...   \n",
       "4             3782.0           False      False     false       False  ...   \n",
       "...              ...             ...        ...       ...         ...  ...   \n",
       "49795         3782.0           False      False     false       False  ...   \n",
       "49796         3782.0           False      False     false       False  ...   \n",
       "49797         3782.0            True      False     false        True  ...   \n",
       "49798         3782.0           False      False     false       False  ...   \n",
       "49799         3782.0           False      False     false       False  ...   \n",
       "\n",
       "           recipient     state_tsz  \\\n",
       "0      not_specified  1.565301e+09   \n",
       "1           children  1.548678e+09   \n",
       "2      not_specified  1.575395e+09   \n",
       "3      not_specified  1.565355e+09   \n",
       "4      not_specified  1.557072e+09   \n",
       "...              ...           ...   \n",
       "49795  not_specified  1.544606e+09   \n",
       "49796  not_specified  1.523042e+09   \n",
       "49797  not_specified  1.522793e+09   \n",
       "49798  not_specified  1.565772e+09   \n",
       "49799  not_specified  1.545378e+09   \n",
       "\n",
       "                                                    tags  \\\n",
       "0      [Custom Card, Best Sister Gift, Swarovski Pear...   \n",
       "1      [flower girl, baby barefoot, baby sandals, chr...   \n",
       "2      [anklets, ankle bracelet, beaded anklet, chain...   \n",
       "3      [Handmade Jewelry, Fine Anklet, Boho Anklet, T...   \n",
       "4      [Swarovski crystal, sterling silver, birthston...   \n",
       "...                                                  ...   \n",
       "49795  [moissanite ring, art deco ring, engagement ri...   \n",
       "49796  [SILVER, ring, women, men, ligns, comb, design...   \n",
       "49797  [silver signet ring, intaglio ring, jasper int...   \n",
       "49798  [jewelry, Woman, ring, Stone, Lonely, Amethyst...   \n",
       "49799  [silver ring, sterling silver ring, slim ring,...   \n",
       "\n",
       "                                           taxonomy_path  \\\n",
       "0                       [Jewelry, Body Jewelry, Anklets]   \n",
       "1                       [Jewelry, Body Jewelry, Anklets]   \n",
       "2                       [Jewelry, Body Jewelry, Anklets]   \n",
       "3                       [Jewelry, Body Jewelry, Anklets]   \n",
       "4                       [Jewelry, Body Jewelry, Anklets]   \n",
       "...                                                  ...   \n",
       "49795  [Jewelry, Rings, Wedding & Engagement, Engagem...   \n",
       "49796                                   [Jewelry, Rings]   \n",
       "49797                     [Jewelry, Rings, Signet Rings]   \n",
       "49798                [Jewelry, Rings, Multi-Stone Rings]   \n",
       "49799                                   [Jewelry, Rings]   \n",
       "\n",
       "                                                   title  used_manufacturer  \\\n",
       "0      Dark Gray Infinity Anklet - Dark Grey Pearl In...              False   \n",
       "1      Baby Barefoot Sandals, Toddler Jewelry,Newborn...              False   \n",
       "2                                    Shaky Shells Anklet              False   \n",
       "3      Garnet Hydro Anklet,Thin Delicate Anklet,India...              False   \n",
       "4         Swarovski Crystal and Sterling Silver Bracelet              False   \n",
       "...                                                  ...                ...   \n",
       "49795  Oval Moissanite Ring, Oval Cut 7x9mm Moissanit...              False   \n",
       "49796                                                CO2              False   \n",
       "49797  Victorian Intaglio, c1900, Wax Seal Ring, Engr...              False   \n",
       "49798  Ring Solitaire silver gilded rose gold and lav...              False   \n",
       "49799  7 rings set SLIM sterling silver ring - any si...              False   \n",
       "\n",
       "           user_id   views      when_made      who_made  \n",
       "0       32000761.0    82.0  made_to_order         i_did  \n",
       "1       11175308.0  3601.0  made_to_order         i_did  \n",
       "2       60381383.0    19.0      2010_2019         i_did  \n",
       "3      174209552.0    14.0      2010_2019         i_did  \n",
       "4        6096032.0    37.0      2010_2019         i_did  \n",
       "...            ...     ...            ...           ...  \n",
       "49795  138745551.0   219.0  made_to_order    collective  \n",
       "49796   24212557.0   168.0      2010_2019         i_did  \n",
       "49797   24003253.0  1180.0          1980s  someone_else  \n",
       "49798   94944764.0   198.0      2010_2019  someone_else  \n",
       "49799  106325481.0    26.0  made_to_order         i_did  \n",
       "\n",
       "[307907 rows x 32 columns]"
      ]
     },
     "execution_count": 33,
     "metadata": {},
     "output_type": "execute_result"
    }
   ],
   "source": [
    "dt"
   ]
  },
  {
   "cell_type": "code",
   "execution_count": 34,
   "metadata": {},
   "outputs": [],
   "source": [
    "def cols_to_vec(l):\n",
    "    try:\n",
    "        return ', '.join(l)\n",
    "    except TypeError:\n",
    "        return ''"
   ]
  },
  {
   "cell_type": "code",
   "execution_count": 35,
   "metadata": {},
   "outputs": [
    {
     "data": {
      "text/html": [
       "<div>\n",
       "<style scoped>\n",
       "    .dataframe tbody tr th:only-of-type {\n",
       "        vertical-align: middle;\n",
       "    }\n",
       "\n",
       "    .dataframe tbody tr th {\n",
       "        vertical-align: top;\n",
       "    }\n",
       "\n",
       "    .dataframe thead th {\n",
       "        text-align: right;\n",
       "    }\n",
       "</style>\n",
       "<table border=\"1\" class=\"dataframe\">\n",
       "  <thead>\n",
       "    <tr style=\"text-align: right;\">\n",
       "      <th></th>\n",
       "      <th>category_path</th>\n",
       "      <th>creation_tsz</th>\n",
       "      <th>currency_code</th>\n",
       "      <th>description</th>\n",
       "      <th>ending_tsz</th>\n",
       "      <th>featured_rank</th>\n",
       "      <th>is_customizable</th>\n",
       "      <th>is_digital</th>\n",
       "      <th>is_supply</th>\n",
       "      <th>is_vintage</th>\n",
       "      <th>...</th>\n",
       "      <th>recipient</th>\n",
       "      <th>state_tsz</th>\n",
       "      <th>tags</th>\n",
       "      <th>taxonomy_path</th>\n",
       "      <th>title</th>\n",
       "      <th>used_manufacturer</th>\n",
       "      <th>user_id</th>\n",
       "      <th>views</th>\n",
       "      <th>when_made</th>\n",
       "      <th>who_made</th>\n",
       "    </tr>\n",
       "  </thead>\n",
       "  <tbody>\n",
       "    <tr>\n",
       "      <th>0</th>\n",
       "      <td>Jewelry, Anklet</td>\n",
       "      <td>1.565354e+09</td>\n",
       "      <td>USD</td>\n",
       "      <td>This piece is just as beautiful in person as i...</td>\n",
       "      <td>1.575898e+09</td>\n",
       "      <td>3782.0</td>\n",
       "      <td>True</td>\n",
       "      <td>False</td>\n",
       "      <td>false</td>\n",
       "      <td>False</td>\n",
       "      <td>...</td>\n",
       "      <td>not_specified</td>\n",
       "      <td>1.565301e+09</td>\n",
       "      <td>Custom Card, Best Sister Gift, Swarovski Pearl...</td>\n",
       "      <td>Jewelry, Body Jewelry, Anklets</td>\n",
       "      <td>Dark Gray Infinity Anklet - Dark Grey Pearl In...</td>\n",
       "      <td>False</td>\n",
       "      <td>32000761.0</td>\n",
       "      <td>82.0</td>\n",
       "      <td>made_to_order</td>\n",
       "      <td>i_did</td>\n",
       "    </tr>\n",
       "    <tr>\n",
       "      <th>1</th>\n",
       "      <td>Jewelry, Anklet</td>\n",
       "      <td>1.565355e+09</td>\n",
       "      <td>USD</td>\n",
       "      <td>❤CHARMING ORGANZA FLOWERS AND PEARLS CHRISTENI...</td>\n",
       "      <td>1.575899e+09</td>\n",
       "      <td>3782.0</td>\n",
       "      <td>True</td>\n",
       "      <td>False</td>\n",
       "      <td>false</td>\n",
       "      <td>False</td>\n",
       "      <td>...</td>\n",
       "      <td>children</td>\n",
       "      <td>1.548678e+09</td>\n",
       "      <td>flower girl, baby barefoot, baby sandals, chri...</td>\n",
       "      <td>Jewelry, Body Jewelry, Anklets</td>\n",
       "      <td>Baby Barefoot Sandals, Toddler Jewelry,Newborn...</td>\n",
       "      <td>False</td>\n",
       "      <td>11175308.0</td>\n",
       "      <td>3601.0</td>\n",
       "      <td>made_to_order</td>\n",
       "      <td>i_did</td>\n",
       "    </tr>\n",
       "    <tr>\n",
       "      <th>2</th>\n",
       "      <td>Jewelry, Anklet</td>\n",
       "      <td>1.565355e+09</td>\n",
       "      <td>USD</td>\n",
       "      <td>Shaky Shells Anklet.  Made with round multi-co...</td>\n",
       "      <td>1.575899e+09</td>\n",
       "      <td>3782.0</td>\n",
       "      <td>False</td>\n",
       "      <td>False</td>\n",
       "      <td>false</td>\n",
       "      <td>False</td>\n",
       "      <td>...</td>\n",
       "      <td>not_specified</td>\n",
       "      <td>1.575395e+09</td>\n",
       "      <td>anklets, ankle bracelet, beaded anklet, chain ...</td>\n",
       "      <td>Jewelry, Body Jewelry, Anklets</td>\n",
       "      <td>Shaky Shells Anklet</td>\n",
       "      <td>False</td>\n",
       "      <td>60381383.0</td>\n",
       "      <td>19.0</td>\n",
       "      <td>2010_2019</td>\n",
       "      <td>i_did</td>\n",
       "    </tr>\n",
       "    <tr>\n",
       "      <th>3</th>\n",
       "      <td>Jewelry, Anklet</td>\n",
       "      <td>1.565355e+09</td>\n",
       "      <td>USD</td>\n",
       "      <td>Garnet Hydro Anklet,Thin Delicate Anklet,India...</td>\n",
       "      <td>1.575899e+09</td>\n",
       "      <td>3782.0</td>\n",
       "      <td>False</td>\n",
       "      <td>False</td>\n",
       "      <td>false</td>\n",
       "      <td>False</td>\n",
       "      <td>...</td>\n",
       "      <td>not_specified</td>\n",
       "      <td>1.565355e+09</td>\n",
       "      <td>Handmade Jewelry, Fine Anklet, Boho Anklet, Tr...</td>\n",
       "      <td>Jewelry, Body Jewelry, Anklets</td>\n",
       "      <td>Garnet Hydro Anklet,Thin Delicate Anklet,India...</td>\n",
       "      <td>False</td>\n",
       "      <td>174209552.0</td>\n",
       "      <td>14.0</td>\n",
       "      <td>2010_2019</td>\n",
       "      <td>i_did</td>\n",
       "    </tr>\n",
       "    <tr>\n",
       "      <th>4</th>\n",
       "      <td>Jewelry, Anklet</td>\n",
       "      <td>1.565356e+09</td>\n",
       "      <td>USD</td>\n",
       "      <td>This lovely bracelet is handcrafted with Swaro...</td>\n",
       "      <td>1.575900e+09</td>\n",
       "      <td>3782.0</td>\n",
       "      <td>False</td>\n",
       "      <td>False</td>\n",
       "      <td>false</td>\n",
       "      <td>False</td>\n",
       "      <td>...</td>\n",
       "      <td>not_specified</td>\n",
       "      <td>1.557072e+09</td>\n",
       "      <td>Swarovski crystal, sterling silver, birthstone...</td>\n",
       "      <td>Jewelry, Body Jewelry, Anklets</td>\n",
       "      <td>Swarovski Crystal and Sterling Silver Bracelet</td>\n",
       "      <td>False</td>\n",
       "      <td>6096032.0</td>\n",
       "      <td>37.0</td>\n",
       "      <td>2010_2019</td>\n",
       "      <td>i_did</td>\n",
       "    </tr>\n",
       "  </tbody>\n",
       "</table>\n",
       "<p>5 rows × 32 columns</p>\n",
       "</div>"
      ],
      "text/plain": [
       "     category_path  creation_tsz currency_code  \\\n",
       "0  Jewelry, Anklet  1.565354e+09           USD   \n",
       "1  Jewelry, Anklet  1.565355e+09           USD   \n",
       "2  Jewelry, Anklet  1.565355e+09           USD   \n",
       "3  Jewelry, Anklet  1.565355e+09           USD   \n",
       "4  Jewelry, Anklet  1.565356e+09           USD   \n",
       "\n",
       "                                         description    ending_tsz  \\\n",
       "0  This piece is just as beautiful in person as i...  1.575898e+09   \n",
       "1  ❤CHARMING ORGANZA FLOWERS AND PEARLS CHRISTENI...  1.575899e+09   \n",
       "2  Shaky Shells Anklet.  Made with round multi-co...  1.575899e+09   \n",
       "3  Garnet Hydro Anklet,Thin Delicate Anklet,India...  1.575899e+09   \n",
       "4  This lovely bracelet is handcrafted with Swaro...  1.575900e+09   \n",
       "\n",
       "   featured_rank is_customizable is_digital is_supply  is_vintage  ...  \\\n",
       "0         3782.0            True      False     false       False  ...   \n",
       "1         3782.0            True      False     false       False  ...   \n",
       "2         3782.0           False      False     false       False  ...   \n",
       "3         3782.0           False      False     false       False  ...   \n",
       "4         3782.0           False      False     false       False  ...   \n",
       "\n",
       "       recipient     state_tsz  \\\n",
       "0  not_specified  1.565301e+09   \n",
       "1       children  1.548678e+09   \n",
       "2  not_specified  1.575395e+09   \n",
       "3  not_specified  1.565355e+09   \n",
       "4  not_specified  1.557072e+09   \n",
       "\n",
       "                                                tags  \\\n",
       "0  Custom Card, Best Sister Gift, Swarovski Pearl...   \n",
       "1  flower girl, baby barefoot, baby sandals, chri...   \n",
       "2  anklets, ankle bracelet, beaded anklet, chain ...   \n",
       "3  Handmade Jewelry, Fine Anklet, Boho Anklet, Tr...   \n",
       "4  Swarovski crystal, sterling silver, birthstone...   \n",
       "\n",
       "                    taxonomy_path  \\\n",
       "0  Jewelry, Body Jewelry, Anklets   \n",
       "1  Jewelry, Body Jewelry, Anklets   \n",
       "2  Jewelry, Body Jewelry, Anklets   \n",
       "3  Jewelry, Body Jewelry, Anklets   \n",
       "4  Jewelry, Body Jewelry, Anklets   \n",
       "\n",
       "                                               title  used_manufacturer  \\\n",
       "0  Dark Gray Infinity Anklet - Dark Grey Pearl In...              False   \n",
       "1  Baby Barefoot Sandals, Toddler Jewelry,Newborn...              False   \n",
       "2                                Shaky Shells Anklet              False   \n",
       "3  Garnet Hydro Anklet,Thin Delicate Anklet,India...              False   \n",
       "4     Swarovski Crystal and Sterling Silver Bracelet              False   \n",
       "\n",
       "       user_id   views      when_made  who_made  \n",
       "0   32000761.0    82.0  made_to_order     i_did  \n",
       "1   11175308.0  3601.0  made_to_order     i_did  \n",
       "2   60381383.0    19.0      2010_2019     i_did  \n",
       "3  174209552.0    14.0      2010_2019     i_did  \n",
       "4    6096032.0    37.0      2010_2019     i_did  \n",
       "\n",
       "[5 rows x 32 columns]"
      ]
     },
     "execution_count": 35,
     "metadata": {},
     "output_type": "execute_result"
    }
   ],
   "source": [
    "dt.category_path = dt.category_path.apply(cols_to_vec)\n",
    "dt.materials = dt.materials.apply(cols_to_vec)\n",
    "dt.tags = dt.tags.apply(cols_to_vec)\n",
    "dt.taxonomy_path = dt.taxonomy_path.apply(cols_to_vec)\n",
    "\n",
    "dt.head()"
   ]
  },
  {
   "cell_type": "code",
   "execution_count": 36,
   "metadata": {},
   "outputs": [
    {
     "data": {
      "text/plain": [
       "Jewelry, Brooch      49494\n",
       "Jewelry, Ring        49291\n",
       "Jewelry, Necklace    49002\n",
       "Jewelry, Earrings    48943\n",
       "Jewelry, Bracelet    48916\n",
       "Name: category_path, dtype: int64"
      ]
     },
     "execution_count": 36,
     "metadata": {},
     "output_type": "execute_result"
    }
   ],
   "source": [
    "dt.category_path.value_counts().head()"
   ]
  },
  {
   "cell_type": "code",
   "execution_count": 37,
   "metadata": {},
   "outputs": [
    {
     "data": {
      "text/plain": [
       "          55863\n",
       "Silver    19072\n",
       "Glass      6005\n",
       "Gold       4466\n",
       "Brass      3043\n",
       "Name: materials, dtype: int64"
      ]
     },
     "execution_count": 37,
     "metadata": {},
     "output_type": "execute_result"
    }
   ],
   "source": [
    "dt.materials.value_counts().head()"
   ]
  },
  {
   "cell_type": "code",
   "execution_count": 38,
   "metadata": {},
   "outputs": [
    {
     "data": {
      "text/plain": [
       "                                                                                                         17562\n",
       "Anzor, Russian, Jewelry, Imperial, Elegant, Diamond, Bride, Victorian, Multitone, Rose, White, NYC         405\n",
       "jewelry, earrings                                                                                          262\n",
       "earrings                                                                                                   195\n",
       "ring, keys, pin, metal, dog, dog lover, collection, gift, souvenir, stylish, exclusive, show, Buttons      163\n",
       "Name: tags, dtype: int64"
      ]
     },
     "execution_count": 38,
     "metadata": {},
     "output_type": "execute_result"
    }
   ],
   "source": [
    "dt.tags.value_counts().head()"
   ]
  },
  {
   "cell_type": "code",
   "execution_count": 39,
   "metadata": {},
   "outputs": [
    {
     "data": {
      "text/plain": [
       "Jewelry, Brooches, Pins & Clips, Brooches    49755\n",
       "Jewelry, Body Jewelry, Anklets               42828\n",
       "Jewelry, Necklaces, Pendants                 36809\n",
       "Jewelry, Earrings, Dangle & Drop Earrings    28542\n",
       "Jewelry, Bracelets, Beaded Bracelets         18928\n",
       "Name: taxonomy_path, dtype: int64"
      ]
     },
     "execution_count": 39,
     "metadata": {},
     "output_type": "execute_result"
    }
   ],
   "source": [
    "dt.taxonomy_path.value_counts().head()"
   ]
  },
  {
   "cell_type": "code",
   "execution_count": 40,
   "metadata": {},
   "outputs": [
    {
     "data": {
      "text/plain": [
       "2010_2019        171567\n",
       "made_to_order     69909\n",
       "before_2000       22289\n",
       "1960s              8382\n",
       "1980s              8101\n",
       "1970s              6940\n",
       "1950s              6008\n",
       "1940s              3055\n",
       "1990s              2750\n",
       "2000_2009          2039\n",
       "1930s              1824\n",
       "1800s              1562\n",
       "1920s              1382\n",
       "1900s              1003\n",
       "1910s               706\n",
       "False                98\n",
       "before_1700          53\n",
       "1700s                39\n",
       "Name: when_made, dtype: int64"
      ]
     },
     "execution_count": 40,
     "metadata": {},
     "output_type": "execute_result"
    }
   ],
   "source": [
    "dt.when_made.value_counts()"
   ]
  },
  {
   "cell_type": "code",
   "execution_count": 41,
   "metadata": {},
   "outputs": [],
   "source": [
    "def filter_made(era):\n",
    "    if era == 'made_to_order':\n",
    "        return era\n",
    "    \n",
    "    elif era in ['2010_2019', '2000_2009']:\n",
    "        return 'modern'\n",
    "    \n",
    "    else:\n",
    "        return 'old'"
   ]
  },
  {
   "cell_type": "code",
   "execution_count": 42,
   "metadata": {},
   "outputs": [],
   "source": [
    "dt.when_made = dt.when_made.apply(filter_made)"
   ]
  },
  {
   "cell_type": "code",
   "execution_count": 43,
   "metadata": {},
   "outputs": [
    {
     "data": {
      "text/plain": [
       "modern           173606\n",
       "made_to_order     69909\n",
       "old               64392\n",
       "Name: when_made, dtype: int64"
      ]
     },
     "execution_count": 43,
     "metadata": {},
     "output_type": "execute_result"
    }
   ],
   "source": [
    "dt.when_made.value_counts()"
   ]
  },
  {
   "cell_type": "markdown",
   "metadata": {},
   "source": [
    "#### Currencies"
   ]
  },
  {
   "cell_type": "code",
   "execution_count": 44,
   "metadata": {},
   "outputs": [
    {
     "data": {
      "text/plain": [
       "USD    235281\n",
       "EUR     31989\n",
       "GBP     24341\n",
       "CAD      8884\n",
       "AUD      5385\n",
       "ILS       607\n",
       "SEK       275\n",
       "SGD       230\n",
       "CHF       165\n",
       "NZD       149\n",
       "HKD       142\n",
       "THB       140\n",
       "JPY        99\n",
       "DKK        80\n",
       "NOK        72\n",
       "MXN        45\n",
       "TWD        11\n",
       "PLN         7\n",
       "PHP         5\n",
       "Name: currency_code, dtype: int64"
      ]
     },
     "execution_count": 44,
     "metadata": {},
     "output_type": "execute_result"
    }
   ],
   "source": [
    "dt.currency_code.value_counts()"
   ]
  },
  {
   "cell_type": "code",
   "execution_count": 45,
   "metadata": {},
   "outputs": [
    {
     "data": {
      "text/plain": [
       "'The top 5 currencies hold 0.99% of the entries, so we are gonna drop the rest'"
      ]
     },
     "execution_count": 45,
     "metadata": {},
     "output_type": "execute_result"
    }
   ],
   "source": [
    "top_k = 5\n",
    "top_curr = list(dt.currency_code.value_counts())[:top_k]\n",
    "f\"The top {top_k} currencies hold {round((sum(top_curr) - sum(list(dt.currency_code.value_counts())[5:]))/dt.shape[0], 2)}% of the entries, so we are gonna drop the rest\""
   ]
  },
  {
   "cell_type": "code",
   "execution_count": 46,
   "metadata": {},
   "outputs": [
    {
     "data": {
      "text/plain": [
       "['USD', 'EUR', 'GBP', 'CAD', 'AUD']"
      ]
     },
     "execution_count": 46,
     "metadata": {},
     "output_type": "execute_result"
    }
   ],
   "source": [
    "top_cur = ['USD', 'EUR','GBP','CAD','AUD']\n",
    "top_cur"
   ]
  },
  {
   "cell_type": "code",
   "execution_count": 47,
   "metadata": {},
   "outputs": [],
   "source": [
    "top_cur = ['USD']"
   ]
  },
  {
   "cell_type": "code",
   "execution_count": 48,
   "metadata": {},
   "outputs": [],
   "source": [
    "dt = copy(dt[dt['currency_code'].isin(top_cur)])"
   ]
  },
  {
   "cell_type": "markdown",
   "metadata": {},
   "source": [
    "### Occasions"
   ]
  },
  {
   "cell_type": "code",
   "execution_count": 49,
   "metadata": {},
   "outputs": [
    {
     "data": {
      "text/plain": [
       "None                  226292\n",
       "birthday                1930\n",
       "wedding                 1527\n",
       "christmas               1063\n",
       "anniversary             1061\n",
       "engagement               822\n",
       "valentines               555\n",
       "mothers_day              481\n",
       "get_well                 187\n",
       "new_years                170\n",
       "sympathy                 168\n",
       "halloween                155\n",
       "graduation               100\n",
       "sweet_16                  93\n",
       "new_baby                  82\n",
       "day_of_the_dead           74\n",
       "fathers_day               72\n",
       "easter                    62\n",
       "housewarming              53\n",
       "chinese_new_year          47\n",
       "confirmation              40\n",
       "st_patricks_day           38\n",
       "july_4th                  38\n",
       "thanksgiving              32\n",
       "eid                       31\n",
       "prom                      27\n",
       "baptism                   21\n",
       "canada_day                18\n",
       "hanukkah                  13\n",
       "bar_or_bat_mitzvah        13\n",
       "cinco_de_mayo              7\n",
       "kwanzaa                    4\n",
       "quinceanera                3\n",
       "retirement                 2\n",
       "Name: occasion, dtype: int64"
      ]
     },
     "execution_count": 49,
     "metadata": {},
     "output_type": "execute_result"
    }
   ],
   "source": [
    "dt.occasion.value_counts()"
   ]
  },
  {
   "cell_type": "code",
   "execution_count": 50,
   "metadata": {},
   "outputs": [],
   "source": [
    "def occasion_filter(oc):\n",
    "    top_categories = ['None', 'birthday','wedding',\n",
    "                      'anniversary','christmas','engagement',\n",
    "                      'valentines','mothers_day','sympathy',\n",
    "                      'get_well','new_years','halloween']\n",
    "    if oc in top_categories:\n",
    "        return oc\n",
    "    else:\n",
    "        return 'other'"
   ]
  },
  {
   "cell_type": "code",
   "execution_count": 51,
   "metadata": {},
   "outputs": [],
   "source": [
    "dt.occasion = dt.occasion.apply(lambda x: occasion_filter(x))"
   ]
  },
  {
   "cell_type": "code",
   "execution_count": 52,
   "metadata": {},
   "outputs": [
    {
     "data": {
      "text/plain": [
       "None           226292\n",
       "birthday         1930\n",
       "wedding          1527\n",
       "christmas        1063\n",
       "anniversary      1061\n",
       "other             870\n",
       "engagement        822\n",
       "valentines        555\n",
       "mothers_day       481\n",
       "get_well          187\n",
       "new_years         170\n",
       "sympathy          168\n",
       "halloween         155\n",
       "Name: occasion, dtype: int64"
      ]
     },
     "execution_count": 52,
     "metadata": {},
     "output_type": "execute_result"
    }
   ],
   "source": [
    "dt.occasion.value_counts()"
   ]
  },
  {
   "cell_type": "markdown",
   "metadata": {},
   "source": [
    "#### Boolean fields seem to have nans and False for the same thing. I will also convert them to their approperate int value for the "
   ]
  },
  {
   "cell_type": "code",
   "execution_count": 53,
   "metadata": {},
   "outputs": [],
   "source": [
    "cols = list(dt.columns)\n",
    "bool_cols = [c if 'is_' in c else False for c in cols]\n",
    "\n",
    "other_cols = ['used_manufacturer']\n",
    "bool_cols.extend(other_cols)\n",
    "\n",
    "assert len(bool_cols) == len(cols) + len(other_cols)\n",
    "\n",
    "bool_cols = list(filter(None, bool_cols))"
   ]
  },
  {
   "cell_type": "code",
   "execution_count": 54,
   "metadata": {},
   "outputs": [
    {
     "data": {
      "text/plain": [
       "['is_customizable',\n",
       " 'is_digital',\n",
       " 'is_supply',\n",
       " 'is_vintage',\n",
       " 'used_manufacturer']"
      ]
     },
     "execution_count": 54,
     "metadata": {},
     "output_type": "execute_result"
    }
   ],
   "source": [
    "bool_cols"
   ]
  },
  {
   "cell_type": "code",
   "execution_count": 55,
   "metadata": {},
   "outputs": [],
   "source": [
    "dt[bool_cols] = dt[bool_cols].fillna(False)"
   ]
  },
  {
   "cell_type": "code",
   "execution_count": 56,
   "metadata": {},
   "outputs": [
    {
     "data": {
      "text/plain": [
       "array([ True, False])"
      ]
     },
     "execution_count": 56,
     "metadata": {},
     "output_type": "execute_result"
    }
   ],
   "source": [
    "dt[bool_cols[0]].unique()"
   ]
  },
  {
   "cell_type": "code",
   "execution_count": 57,
   "metadata": {},
   "outputs": [
    {
     "name": "stdout",
     "output_type": "stream",
     "text": [
      "True\n",
      "False\n",
      "false\n",
      "False\n",
      "False\n"
     ]
    },
    {
     "data": {
      "text/plain": [
       "[None, None, None, None, None]"
      ]
     },
     "execution_count": 57,
     "metadata": {},
     "output_type": "execute_result"
    }
   ],
   "source": [
    "[print(x) for x in dt[bool_cols].iloc[0]]"
   ]
  },
  {
   "cell_type": "code",
   "execution_count": 58,
   "metadata": {},
   "outputs": [
    {
     "data": {
      "text/plain": [
       "1"
      ]
     },
     "execution_count": 58,
     "metadata": {},
     "output_type": "execute_result"
    }
   ],
   "source": [
    "int(bool(dt[bool_cols].iloc[0][2]))"
   ]
  },
  {
   "cell_type": "code",
   "execution_count": 59,
   "metadata": {},
   "outputs": [],
   "source": [
    "# dt[bool_cols].iloc[0].apply(lambda row: [int(el) for el in row]) \n",
    "# need to convert to bool first bc some are type str \n",
    "\n",
    "dt[bool_cols] = dt[bool_cols].apply(lambda row: [int(bool(el)) for el in row])"
   ]
  },
  {
   "cell_type": "code",
   "execution_count": 60,
   "metadata": {},
   "outputs": [
    {
     "data": {
      "text/html": [
       "<div>\n",
       "<style scoped>\n",
       "    .dataframe tbody tr th:only-of-type {\n",
       "        vertical-align: middle;\n",
       "    }\n",
       "\n",
       "    .dataframe tbody tr th {\n",
       "        vertical-align: top;\n",
       "    }\n",
       "\n",
       "    .dataframe thead th {\n",
       "        text-align: right;\n",
       "    }\n",
       "</style>\n",
       "<table border=\"1\" class=\"dataframe\">\n",
       "  <thead>\n",
       "    <tr style=\"text-align: right;\">\n",
       "      <th></th>\n",
       "      <th>category_path</th>\n",
       "      <th>creation_tsz</th>\n",
       "      <th>currency_code</th>\n",
       "      <th>description</th>\n",
       "      <th>ending_tsz</th>\n",
       "      <th>featured_rank</th>\n",
       "      <th>is_customizable</th>\n",
       "      <th>is_digital</th>\n",
       "      <th>is_supply</th>\n",
       "      <th>is_vintage</th>\n",
       "      <th>...</th>\n",
       "      <th>recipient</th>\n",
       "      <th>state_tsz</th>\n",
       "      <th>tags</th>\n",
       "      <th>taxonomy_path</th>\n",
       "      <th>title</th>\n",
       "      <th>used_manufacturer</th>\n",
       "      <th>user_id</th>\n",
       "      <th>views</th>\n",
       "      <th>when_made</th>\n",
       "      <th>who_made</th>\n",
       "    </tr>\n",
       "  </thead>\n",
       "  <tbody>\n",
       "    <tr>\n",
       "      <th>0</th>\n",
       "      <td>Jewelry, Anklet</td>\n",
       "      <td>1.565354e+09</td>\n",
       "      <td>USD</td>\n",
       "      <td>This piece is just as beautiful in person as i...</td>\n",
       "      <td>1.575898e+09</td>\n",
       "      <td>3782.0</td>\n",
       "      <td>1</td>\n",
       "      <td>0</td>\n",
       "      <td>1</td>\n",
       "      <td>0</td>\n",
       "      <td>...</td>\n",
       "      <td>not_specified</td>\n",
       "      <td>1.565301e+09</td>\n",
       "      <td>Custom Card, Best Sister Gift, Swarovski Pearl...</td>\n",
       "      <td>Jewelry, Body Jewelry, Anklets</td>\n",
       "      <td>Dark Gray Infinity Anklet - Dark Grey Pearl In...</td>\n",
       "      <td>0</td>\n",
       "      <td>32000761.0</td>\n",
       "      <td>82.0</td>\n",
       "      <td>made_to_order</td>\n",
       "      <td>i_did</td>\n",
       "    </tr>\n",
       "    <tr>\n",
       "      <th>1</th>\n",
       "      <td>Jewelry, Anklet</td>\n",
       "      <td>1.565355e+09</td>\n",
       "      <td>USD</td>\n",
       "      <td>❤CHARMING ORGANZA FLOWERS AND PEARLS CHRISTENI...</td>\n",
       "      <td>1.575899e+09</td>\n",
       "      <td>3782.0</td>\n",
       "      <td>1</td>\n",
       "      <td>0</td>\n",
       "      <td>1</td>\n",
       "      <td>0</td>\n",
       "      <td>...</td>\n",
       "      <td>children</td>\n",
       "      <td>1.548678e+09</td>\n",
       "      <td>flower girl, baby barefoot, baby sandals, chri...</td>\n",
       "      <td>Jewelry, Body Jewelry, Anklets</td>\n",
       "      <td>Baby Barefoot Sandals, Toddler Jewelry,Newborn...</td>\n",
       "      <td>0</td>\n",
       "      <td>11175308.0</td>\n",
       "      <td>3601.0</td>\n",
       "      <td>made_to_order</td>\n",
       "      <td>i_did</td>\n",
       "    </tr>\n",
       "    <tr>\n",
       "      <th>2</th>\n",
       "      <td>Jewelry, Anklet</td>\n",
       "      <td>1.565355e+09</td>\n",
       "      <td>USD</td>\n",
       "      <td>Shaky Shells Anklet.  Made with round multi-co...</td>\n",
       "      <td>1.575899e+09</td>\n",
       "      <td>3782.0</td>\n",
       "      <td>0</td>\n",
       "      <td>0</td>\n",
       "      <td>1</td>\n",
       "      <td>0</td>\n",
       "      <td>...</td>\n",
       "      <td>not_specified</td>\n",
       "      <td>1.575395e+09</td>\n",
       "      <td>anklets, ankle bracelet, beaded anklet, chain ...</td>\n",
       "      <td>Jewelry, Body Jewelry, Anklets</td>\n",
       "      <td>Shaky Shells Anklet</td>\n",
       "      <td>0</td>\n",
       "      <td>60381383.0</td>\n",
       "      <td>19.0</td>\n",
       "      <td>modern</td>\n",
       "      <td>i_did</td>\n",
       "    </tr>\n",
       "    <tr>\n",
       "      <th>3</th>\n",
       "      <td>Jewelry, Anklet</td>\n",
       "      <td>1.565355e+09</td>\n",
       "      <td>USD</td>\n",
       "      <td>Garnet Hydro Anklet,Thin Delicate Anklet,India...</td>\n",
       "      <td>1.575899e+09</td>\n",
       "      <td>3782.0</td>\n",
       "      <td>0</td>\n",
       "      <td>0</td>\n",
       "      <td>1</td>\n",
       "      <td>0</td>\n",
       "      <td>...</td>\n",
       "      <td>not_specified</td>\n",
       "      <td>1.565355e+09</td>\n",
       "      <td>Handmade Jewelry, Fine Anklet, Boho Anklet, Tr...</td>\n",
       "      <td>Jewelry, Body Jewelry, Anklets</td>\n",
       "      <td>Garnet Hydro Anklet,Thin Delicate Anklet,India...</td>\n",
       "      <td>0</td>\n",
       "      <td>174209552.0</td>\n",
       "      <td>14.0</td>\n",
       "      <td>modern</td>\n",
       "      <td>i_did</td>\n",
       "    </tr>\n",
       "    <tr>\n",
       "      <th>4</th>\n",
       "      <td>Jewelry, Anklet</td>\n",
       "      <td>1.565356e+09</td>\n",
       "      <td>USD</td>\n",
       "      <td>This lovely bracelet is handcrafted with Swaro...</td>\n",
       "      <td>1.575900e+09</td>\n",
       "      <td>3782.0</td>\n",
       "      <td>0</td>\n",
       "      <td>0</td>\n",
       "      <td>1</td>\n",
       "      <td>0</td>\n",
       "      <td>...</td>\n",
       "      <td>not_specified</td>\n",
       "      <td>1.557072e+09</td>\n",
       "      <td>Swarovski crystal, sterling silver, birthstone...</td>\n",
       "      <td>Jewelry, Body Jewelry, Anklets</td>\n",
       "      <td>Swarovski Crystal and Sterling Silver Bracelet</td>\n",
       "      <td>0</td>\n",
       "      <td>6096032.0</td>\n",
       "      <td>37.0</td>\n",
       "      <td>modern</td>\n",
       "      <td>i_did</td>\n",
       "    </tr>\n",
       "  </tbody>\n",
       "</table>\n",
       "<p>5 rows × 32 columns</p>\n",
       "</div>"
      ],
      "text/plain": [
       "     category_path  creation_tsz currency_code  \\\n",
       "0  Jewelry, Anklet  1.565354e+09           USD   \n",
       "1  Jewelry, Anklet  1.565355e+09           USD   \n",
       "2  Jewelry, Anklet  1.565355e+09           USD   \n",
       "3  Jewelry, Anklet  1.565355e+09           USD   \n",
       "4  Jewelry, Anklet  1.565356e+09           USD   \n",
       "\n",
       "                                         description    ending_tsz  \\\n",
       "0  This piece is just as beautiful in person as i...  1.575898e+09   \n",
       "1  ❤CHARMING ORGANZA FLOWERS AND PEARLS CHRISTENI...  1.575899e+09   \n",
       "2  Shaky Shells Anklet.  Made with round multi-co...  1.575899e+09   \n",
       "3  Garnet Hydro Anklet,Thin Delicate Anklet,India...  1.575899e+09   \n",
       "4  This lovely bracelet is handcrafted with Swaro...  1.575900e+09   \n",
       "\n",
       "   featured_rank  is_customizable  is_digital  is_supply  is_vintage  ...  \\\n",
       "0         3782.0                1           0          1           0  ...   \n",
       "1         3782.0                1           0          1           0  ...   \n",
       "2         3782.0                0           0          1           0  ...   \n",
       "3         3782.0                0           0          1           0  ...   \n",
       "4         3782.0                0           0          1           0  ...   \n",
       "\n",
       "       recipient     state_tsz  \\\n",
       "0  not_specified  1.565301e+09   \n",
       "1       children  1.548678e+09   \n",
       "2  not_specified  1.575395e+09   \n",
       "3  not_specified  1.565355e+09   \n",
       "4  not_specified  1.557072e+09   \n",
       "\n",
       "                                                tags  \\\n",
       "0  Custom Card, Best Sister Gift, Swarovski Pearl...   \n",
       "1  flower girl, baby barefoot, baby sandals, chri...   \n",
       "2  anklets, ankle bracelet, beaded anklet, chain ...   \n",
       "3  Handmade Jewelry, Fine Anklet, Boho Anklet, Tr...   \n",
       "4  Swarovski crystal, sterling silver, birthstone...   \n",
       "\n",
       "                    taxonomy_path  \\\n",
       "0  Jewelry, Body Jewelry, Anklets   \n",
       "1  Jewelry, Body Jewelry, Anklets   \n",
       "2  Jewelry, Body Jewelry, Anklets   \n",
       "3  Jewelry, Body Jewelry, Anklets   \n",
       "4  Jewelry, Body Jewelry, Anklets   \n",
       "\n",
       "                                               title  used_manufacturer  \\\n",
       "0  Dark Gray Infinity Anklet - Dark Grey Pearl In...                  0   \n",
       "1  Baby Barefoot Sandals, Toddler Jewelry,Newborn...                  0   \n",
       "2                                Shaky Shells Anklet                  0   \n",
       "3  Garnet Hydro Anklet,Thin Delicate Anklet,India...                  0   \n",
       "4     Swarovski Crystal and Sterling Silver Bracelet                  0   \n",
       "\n",
       "       user_id   views      when_made  who_made  \n",
       "0   32000761.0    82.0  made_to_order     i_did  \n",
       "1   11175308.0  3601.0  made_to_order     i_did  \n",
       "2   60381383.0    19.0         modern     i_did  \n",
       "3  174209552.0    14.0         modern     i_did  \n",
       "4    6096032.0    37.0         modern     i_did  \n",
       "\n",
       "[5 rows x 32 columns]"
      ]
     },
     "execution_count": 60,
     "metadata": {},
     "output_type": "execute_result"
    }
   ],
   "source": [
    "dt.head()"
   ]
  },
  {
   "cell_type": "markdown",
   "metadata": {},
   "source": [
    "### Better"
   ]
  },
  {
   "cell_type": "code",
   "execution_count": 61,
   "metadata": {},
   "outputs": [
    {
     "data": {
      "text/plain": [
       "3"
      ]
     },
     "execution_count": 61,
     "metadata": {},
     "output_type": "execute_result"
    }
   ],
   "source": [
    "dt.isna().sum().sum()"
   ]
  },
  {
   "cell_type": "code",
   "execution_count": 62,
   "metadata": {},
   "outputs": [],
   "source": [
    "dt.dropna(inplace=True)"
   ]
  },
  {
   "cell_type": "markdown",
   "metadata": {},
   "source": [
    "### Best"
   ]
  },
  {
   "cell_type": "code",
   "execution_count": 63,
   "metadata": {},
   "outputs": [
    {
     "data": {
      "text/plain": [
       "0"
      ]
     },
     "execution_count": 63,
     "metadata": {},
     "output_type": "execute_result"
    }
   ],
   "source": [
    "dt.isna().sum().sum()"
   ]
  },
  {
   "cell_type": "code",
   "execution_count": 64,
   "metadata": {},
   "outputs": [],
   "source": [
    "dt.drop(['currency_code'], axis=1, inplace=True)"
   ]
  },
  {
   "cell_type": "code",
   "execution_count": 65,
   "metadata": {},
   "outputs": [],
   "source": [
    "dt.to_pickle('datsets/jewelry_all.pkl')"
   ]
  },
  {
   "cell_type": "code",
   "execution_count": 66,
   "metadata": {},
   "outputs": [
    {
     "name": "stdout",
     "output_type": "stream",
     "text": [
      "datsets/anklet.pkl\n",
      "datsets/piercing.pkl\n",
      "datsets/pendant.pkl\n",
      "datsets/bracelet.pkl\n",
      "datsets/earrings.pkl\n",
      "datsets/necklace.pkl\n",
      "datsets/brooch.pkl\n",
      "datsets/ring.pkl\n"
     ]
    }
   ],
   "source": [
    "classes = dt.jewelry_class.unique()\n",
    "\n",
    "dt.to_pickle('datsets/jewelry_all.pkl')\n",
    "\n",
    "classes = dt.jewelry_class.unique()\n",
    "\n",
    "\n",
    "for c in classes:\n",
    "    dx = copy(dt[dt['jewelry_class'] == c])\n",
    "    dx.drop(['jewelry_class'], axis=1, inplace=True)\n",
    "    path= f'datsets/{c}.pkl'\n",
    "    dt.to_pickle(path)\n",
    "    print(f'datsets/{c}.pkl')"
   ]
  },
  {
   "cell_type": "markdown",
   "metadata": {},
   "source": [
    "# Model"
   ]
  },
  {
   "cell_type": "code",
   "execution_count": 67,
   "metadata": {},
   "outputs": [],
   "source": [
    "dt['has_silver'] = dt.materials.str.contains('silver', case = False, regex=False).apply(lambda x:1 if x else 0)\n",
    "dt['has_gold'] = dt.materials.str.contains('gold', case = False, regex=False).apply(lambda x:1 if x else 0)\n",
    "dt['has_glass'] = dt.materials.str.contains('glass', case = False, regex=False).apply(lambda x:1 if x else 0)\n",
    "dt['has_diamond'] = dt.materials.str.contains('diamond', case = False, regex=False).apply(lambda x:1 if x else 0)\n",
    "dt['has_pearl'] = dt.materials.str.contains('pearl', case = False, regex=False).apply(lambda x:1 if x else 0)\n",
    "stones = r'sapphire|quartz|ruby|turquoise||amethyst|stone|gemstone|emerald'\n",
    "dt['has_stone'] = dt.materials.str.contains(stones, case = False, regex=True).apply(lambda x:1 if x else 0)"
   ]
  },
  {
   "cell_type": "code",
   "execution_count": 68,
   "metadata": {},
   "outputs": [
    {
     "data": {
      "text/html": [
       "<div>\n",
       "<style scoped>\n",
       "    .dataframe tbody tr th:only-of-type {\n",
       "        vertical-align: middle;\n",
       "    }\n",
       "\n",
       "    .dataframe tbody tr th {\n",
       "        vertical-align: top;\n",
       "    }\n",
       "\n",
       "    .dataframe thead th {\n",
       "        text-align: right;\n",
       "    }\n",
       "</style>\n",
       "<table border=\"1\" class=\"dataframe\">\n",
       "  <thead>\n",
       "    <tr style=\"text-align: right;\">\n",
       "      <th></th>\n",
       "      <th>category_path</th>\n",
       "      <th>creation_tsz</th>\n",
       "      <th>description</th>\n",
       "      <th>ending_tsz</th>\n",
       "      <th>featured_rank</th>\n",
       "      <th>is_customizable</th>\n",
       "      <th>is_digital</th>\n",
       "      <th>is_supply</th>\n",
       "      <th>is_vintage</th>\n",
       "      <th>jewelry_class</th>\n",
       "      <th>...</th>\n",
       "      <th>user_id</th>\n",
       "      <th>views</th>\n",
       "      <th>when_made</th>\n",
       "      <th>who_made</th>\n",
       "      <th>has_silver</th>\n",
       "      <th>has_gold</th>\n",
       "      <th>has_glass</th>\n",
       "      <th>has_diamond</th>\n",
       "      <th>has_pearl</th>\n",
       "      <th>has_stone</th>\n",
       "    </tr>\n",
       "  </thead>\n",
       "  <tbody>\n",
       "    <tr>\n",
       "      <th>0</th>\n",
       "      <td>Jewelry, Anklet</td>\n",
       "      <td>1.565354e+09</td>\n",
       "      <td>This piece is just as beautiful in person as i...</td>\n",
       "      <td>1.575898e+09</td>\n",
       "      <td>3782.0</td>\n",
       "      <td>1</td>\n",
       "      <td>0</td>\n",
       "      <td>1</td>\n",
       "      <td>0</td>\n",
       "      <td>anklet</td>\n",
       "      <td>...</td>\n",
       "      <td>32000761.0</td>\n",
       "      <td>82.0</td>\n",
       "      <td>made_to_order</td>\n",
       "      <td>i_did</td>\n",
       "      <td>1</td>\n",
       "      <td>0</td>\n",
       "      <td>0</td>\n",
       "      <td>0</td>\n",
       "      <td>1</td>\n",
       "      <td>1</td>\n",
       "    </tr>\n",
       "    <tr>\n",
       "      <th>1</th>\n",
       "      <td>Jewelry, Anklet</td>\n",
       "      <td>1.565355e+09</td>\n",
       "      <td>❤CHARMING ORGANZA FLOWERS AND PEARLS CHRISTENI...</td>\n",
       "      <td>1.575899e+09</td>\n",
       "      <td>3782.0</td>\n",
       "      <td>1</td>\n",
       "      <td>0</td>\n",
       "      <td>1</td>\n",
       "      <td>0</td>\n",
       "      <td>anklet</td>\n",
       "      <td>...</td>\n",
       "      <td>11175308.0</td>\n",
       "      <td>3601.0</td>\n",
       "      <td>made_to_order</td>\n",
       "      <td>i_did</td>\n",
       "      <td>0</td>\n",
       "      <td>0</td>\n",
       "      <td>0</td>\n",
       "      <td>0</td>\n",
       "      <td>1</td>\n",
       "      <td>1</td>\n",
       "    </tr>\n",
       "    <tr>\n",
       "      <th>2</th>\n",
       "      <td>Jewelry, Anklet</td>\n",
       "      <td>1.565355e+09</td>\n",
       "      <td>Shaky Shells Anklet.  Made with round multi-co...</td>\n",
       "      <td>1.575899e+09</td>\n",
       "      <td>3782.0</td>\n",
       "      <td>0</td>\n",
       "      <td>0</td>\n",
       "      <td>1</td>\n",
       "      <td>0</td>\n",
       "      <td>anklet</td>\n",
       "      <td>...</td>\n",
       "      <td>60381383.0</td>\n",
       "      <td>19.0</td>\n",
       "      <td>modern</td>\n",
       "      <td>i_did</td>\n",
       "      <td>1</td>\n",
       "      <td>0</td>\n",
       "      <td>0</td>\n",
       "      <td>0</td>\n",
       "      <td>0</td>\n",
       "      <td>1</td>\n",
       "    </tr>\n",
       "    <tr>\n",
       "      <th>3</th>\n",
       "      <td>Jewelry, Anklet</td>\n",
       "      <td>1.565355e+09</td>\n",
       "      <td>Garnet Hydro Anklet,Thin Delicate Anklet,India...</td>\n",
       "      <td>1.575899e+09</td>\n",
       "      <td>3782.0</td>\n",
       "      <td>0</td>\n",
       "      <td>0</td>\n",
       "      <td>1</td>\n",
       "      <td>0</td>\n",
       "      <td>anklet</td>\n",
       "      <td>...</td>\n",
       "      <td>174209552.0</td>\n",
       "      <td>14.0</td>\n",
       "      <td>modern</td>\n",
       "      <td>i_did</td>\n",
       "      <td>1</td>\n",
       "      <td>0</td>\n",
       "      <td>0</td>\n",
       "      <td>0</td>\n",
       "      <td>0</td>\n",
       "      <td>1</td>\n",
       "    </tr>\n",
       "    <tr>\n",
       "      <th>4</th>\n",
       "      <td>Jewelry, Anklet</td>\n",
       "      <td>1.565356e+09</td>\n",
       "      <td>This lovely bracelet is handcrafted with Swaro...</td>\n",
       "      <td>1.575900e+09</td>\n",
       "      <td>3782.0</td>\n",
       "      <td>0</td>\n",
       "      <td>0</td>\n",
       "      <td>1</td>\n",
       "      <td>0</td>\n",
       "      <td>anklet</td>\n",
       "      <td>...</td>\n",
       "      <td>6096032.0</td>\n",
       "      <td>37.0</td>\n",
       "      <td>modern</td>\n",
       "      <td>i_did</td>\n",
       "      <td>1</td>\n",
       "      <td>0</td>\n",
       "      <td>0</td>\n",
       "      <td>0</td>\n",
       "      <td>0</td>\n",
       "      <td>1</td>\n",
       "    </tr>\n",
       "    <tr>\n",
       "      <th>...</th>\n",
       "      <td>...</td>\n",
       "      <td>...</td>\n",
       "      <td>...</td>\n",
       "      <td>...</td>\n",
       "      <td>...</td>\n",
       "      <td>...</td>\n",
       "      <td>...</td>\n",
       "      <td>...</td>\n",
       "      <td>...</td>\n",
       "      <td>...</td>\n",
       "      <td>...</td>\n",
       "      <td>...</td>\n",
       "      <td>...</td>\n",
       "      <td>...</td>\n",
       "      <td>...</td>\n",
       "      <td>...</td>\n",
       "      <td>...</td>\n",
       "      <td>...</td>\n",
       "      <td>...</td>\n",
       "      <td>...</td>\n",
       "      <td>...</td>\n",
       "    </tr>\n",
       "    <tr>\n",
       "      <th>49788</th>\n",
       "      <td>Jewelry, Ring</td>\n",
       "      <td>1.565771e+09</td>\n",
       "      <td>The ring was made hand made of 925 silver and ...</td>\n",
       "      <td>1.576316e+09</td>\n",
       "      <td>6.0</td>\n",
       "      <td>0</td>\n",
       "      <td>0</td>\n",
       "      <td>1</td>\n",
       "      <td>0</td>\n",
       "      <td>ring</td>\n",
       "      <td>...</td>\n",
       "      <td>7934612.0</td>\n",
       "      <td>97.0</td>\n",
       "      <td>modern</td>\n",
       "      <td>i_did</td>\n",
       "      <td>1</td>\n",
       "      <td>0</td>\n",
       "      <td>0</td>\n",
       "      <td>0</td>\n",
       "      <td>0</td>\n",
       "      <td>1</td>\n",
       "    </tr>\n",
       "    <tr>\n",
       "      <th>49789</th>\n",
       "      <td>Jewelry, Ring</td>\n",
       "      <td>1.565771e+09</td>\n",
       "      <td>Emerald Ring Gold Fill 14K Ring \\nMetal Type -...</td>\n",
       "      <td>1.576316e+09</td>\n",
       "      <td>3782.0</td>\n",
       "      <td>1</td>\n",
       "      <td>0</td>\n",
       "      <td>1</td>\n",
       "      <td>0</td>\n",
       "      <td>ring</td>\n",
       "      <td>...</td>\n",
       "      <td>46771602.0</td>\n",
       "      <td>4734.0</td>\n",
       "      <td>made_to_order</td>\n",
       "      <td>i_did</td>\n",
       "      <td>0</td>\n",
       "      <td>1</td>\n",
       "      <td>0</td>\n",
       "      <td>0</td>\n",
       "      <td>0</td>\n",
       "      <td>1</td>\n",
       "    </tr>\n",
       "    <tr>\n",
       "      <th>49790</th>\n",
       "      <td>Jewelry, Ring</td>\n",
       "      <td>1.565771e+09</td>\n",
       "      <td>When nature is designed as a wedding decoratio...</td>\n",
       "      <td>1.576316e+09</td>\n",
       "      <td>3782.0</td>\n",
       "      <td>1</td>\n",
       "      <td>0</td>\n",
       "      <td>1</td>\n",
       "      <td>0</td>\n",
       "      <td>ring</td>\n",
       "      <td>...</td>\n",
       "      <td>78465143.0</td>\n",
       "      <td>62.0</td>\n",
       "      <td>made_to_order</td>\n",
       "      <td>i_did</td>\n",
       "      <td>0</td>\n",
       "      <td>1</td>\n",
       "      <td>0</td>\n",
       "      <td>1</td>\n",
       "      <td>0</td>\n",
       "      <td>1</td>\n",
       "    </tr>\n",
       "    <tr>\n",
       "      <th>49795</th>\n",
       "      <td>Jewelry, Ring</td>\n",
       "      <td>1.565771e+09</td>\n",
       "      <td>Oval Moissanite Ring, Oval Cut 7x9mm Moissanit...</td>\n",
       "      <td>1.576316e+09</td>\n",
       "      <td>3782.0</td>\n",
       "      <td>0</td>\n",
       "      <td>0</td>\n",
       "      <td>1</td>\n",
       "      <td>0</td>\n",
       "      <td>ring</td>\n",
       "      <td>...</td>\n",
       "      <td>138745551.0</td>\n",
       "      <td>219.0</td>\n",
       "      <td>made_to_order</td>\n",
       "      <td>collective</td>\n",
       "      <td>0</td>\n",
       "      <td>1</td>\n",
       "      <td>0</td>\n",
       "      <td>0</td>\n",
       "      <td>0</td>\n",
       "      <td>1</td>\n",
       "    </tr>\n",
       "    <tr>\n",
       "      <th>49797</th>\n",
       "      <td>Jewelry, Ring</td>\n",
       "      <td>1.565771e+09</td>\n",
       "      <td>Welcome to TampicoJewelry.com!\\nVictorian Inta...</td>\n",
       "      <td>1.576316e+09</td>\n",
       "      <td>3782.0</td>\n",
       "      <td>1</td>\n",
       "      <td>0</td>\n",
       "      <td>1</td>\n",
       "      <td>1</td>\n",
       "      <td>ring</td>\n",
       "      <td>...</td>\n",
       "      <td>24003253.0</td>\n",
       "      <td>1180.0</td>\n",
       "      <td>old</td>\n",
       "      <td>someone_else</td>\n",
       "      <td>1</td>\n",
       "      <td>0</td>\n",
       "      <td>0</td>\n",
       "      <td>0</td>\n",
       "      <td>0</td>\n",
       "      <td>1</td>\n",
       "    </tr>\n",
       "  </tbody>\n",
       "</table>\n",
       "<p>235278 rows × 37 columns</p>\n",
       "</div>"
      ],
      "text/plain": [
       "         category_path  creation_tsz  \\\n",
       "0      Jewelry, Anklet  1.565354e+09   \n",
       "1      Jewelry, Anklet  1.565355e+09   \n",
       "2      Jewelry, Anklet  1.565355e+09   \n",
       "3      Jewelry, Anklet  1.565355e+09   \n",
       "4      Jewelry, Anklet  1.565356e+09   \n",
       "...                ...           ...   \n",
       "49788    Jewelry, Ring  1.565771e+09   \n",
       "49789    Jewelry, Ring  1.565771e+09   \n",
       "49790    Jewelry, Ring  1.565771e+09   \n",
       "49795    Jewelry, Ring  1.565771e+09   \n",
       "49797    Jewelry, Ring  1.565771e+09   \n",
       "\n",
       "                                             description    ending_tsz  \\\n",
       "0      This piece is just as beautiful in person as i...  1.575898e+09   \n",
       "1      ❤CHARMING ORGANZA FLOWERS AND PEARLS CHRISTENI...  1.575899e+09   \n",
       "2      Shaky Shells Anklet.  Made with round multi-co...  1.575899e+09   \n",
       "3      Garnet Hydro Anklet,Thin Delicate Anklet,India...  1.575899e+09   \n",
       "4      This lovely bracelet is handcrafted with Swaro...  1.575900e+09   \n",
       "...                                                  ...           ...   \n",
       "49788  The ring was made hand made of 925 silver and ...  1.576316e+09   \n",
       "49789  Emerald Ring Gold Fill 14K Ring \\nMetal Type -...  1.576316e+09   \n",
       "49790  When nature is designed as a wedding decoratio...  1.576316e+09   \n",
       "49795  Oval Moissanite Ring, Oval Cut 7x9mm Moissanit...  1.576316e+09   \n",
       "49797  Welcome to TampicoJewelry.com!\\nVictorian Inta...  1.576316e+09   \n",
       "\n",
       "       featured_rank  is_customizable  is_digital  is_supply  is_vintage  \\\n",
       "0             3782.0                1           0          1           0   \n",
       "1             3782.0                1           0          1           0   \n",
       "2             3782.0                0           0          1           0   \n",
       "3             3782.0                0           0          1           0   \n",
       "4             3782.0                0           0          1           0   \n",
       "...              ...              ...         ...        ...         ...   \n",
       "49788            6.0                0           0          1           0   \n",
       "49789         3782.0                1           0          1           0   \n",
       "49790         3782.0                1           0          1           0   \n",
       "49795         3782.0                0           0          1           0   \n",
       "49797         3782.0                1           0          1           1   \n",
       "\n",
       "      jewelry_class  ...      user_id   views      when_made      who_made  \\\n",
       "0            anklet  ...   32000761.0    82.0  made_to_order         i_did   \n",
       "1            anklet  ...   11175308.0  3601.0  made_to_order         i_did   \n",
       "2            anklet  ...   60381383.0    19.0         modern         i_did   \n",
       "3            anklet  ...  174209552.0    14.0         modern         i_did   \n",
       "4            anklet  ...    6096032.0    37.0         modern         i_did   \n",
       "...             ...  ...          ...     ...            ...           ...   \n",
       "49788          ring  ...    7934612.0    97.0         modern         i_did   \n",
       "49789          ring  ...   46771602.0  4734.0  made_to_order         i_did   \n",
       "49790          ring  ...   78465143.0    62.0  made_to_order         i_did   \n",
       "49795          ring  ...  138745551.0   219.0  made_to_order    collective   \n",
       "49797          ring  ...   24003253.0  1180.0            old  someone_else   \n",
       "\n",
       "       has_silver has_gold  has_glass has_diamond  has_pearl  has_stone  \n",
       "0               1        0          0           0          1          1  \n",
       "1               0        0          0           0          1          1  \n",
       "2               1        0          0           0          0          1  \n",
       "3               1        0          0           0          0          1  \n",
       "4               1        0          0           0          0          1  \n",
       "...           ...      ...        ...         ...        ...        ...  \n",
       "49788           1        0          0           0          0          1  \n",
       "49789           0        1          0           0          0          1  \n",
       "49790           0        1          0           1          0          1  \n",
       "49795           0        1          0           0          0          1  \n",
       "49797           1        0          0           0          0          1  \n",
       "\n",
       "[235278 rows x 37 columns]"
      ]
     },
     "execution_count": 68,
     "metadata": {},
     "output_type": "execute_result"
    }
   ],
   "source": [
    "dt"
   ]
  }
 ],
 "metadata": {
  "kernelspec": {
   "display_name": "Python 3",
   "language": "python",
   "name": "python3"
  },
  "language_info": {
   "codemirror_mode": {
    "name": "ipython",
    "version": 3
   },
   "file_extension": ".py",
   "mimetype": "text/x-python",
   "name": "python",
   "nbconvert_exporter": "python",
   "pygments_lexer": "ipython3",
   "version": "3.7.5"
  }
 },
 "nbformat": 4,
 "nbformat_minor": 4
}
